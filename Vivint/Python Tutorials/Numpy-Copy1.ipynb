{
 "cells": [
  {
   "cell_type": "code",
   "execution_count": 4,
   "metadata": {},
   "outputs": [
    {
     "name": "stdout",
     "output_type": "stream",
     "text": [
      "[[ 0  1  2  3  4]\n",
      " [ 5  6  7  8  9]\n",
      " [10 11 12 13 14]]\n",
      "\n",
      "Dimensionality: 2\n",
      "Shape: (3, 5)\n",
      "Size: 15\n",
      "\n",
      "[[21.  5.  2.  4.]\n",
      " [ 1.  8.  5.  3.]]\n"
     ]
    }
   ],
   "source": [
    "# Basic ndarrays\n",
    "import numpy as np\n",
    "\n",
    "#Uses numbers 0-15 and resizes it to 3 rows, 5 columns\n",
    "# OR 3 lists of 5 elements. Arange reuturns an array\n",
    "a = np.arange(15).reshape(3,5)\n",
    "print(a)\n",
    "\n",
    "#Some Basic properties\n",
    "print(\"\\nDimensionality: {}\".format(a.ndim))\n",
    "print(\"Shape: {}\".format(a.shape))\n",
    "print(\"Size: {}\\n\".format(a.size))\n",
    "\n",
    "#String Containing data type\n",
    "a.dtype.name\n",
    "\n",
    "#Creating 2D arrays manually. Sequence of 1D arrays\n",
    "ab = np.array(([21,5,2,4],[1,8,5,3]), dtype='float32')\n",
    "print(ab)\n"
   ]
  },
  {
   "cell_type": "code",
   "execution_count": 38,
   "metadata": {},
   "outputs": [
    {
     "name": "stdout",
     "output_type": "stream",
     "text": [
      "[0 1]\n",
      "[2 3 4 5 6 7 8 9]\n",
      "[8 9]\n",
      "[0 1 2 3 4 5 6 7]\n",
      "[9 8 7 6 5 4 3 2 1 0]\n",
      "[0 2 4 6 8]\n",
      "[1 3 5 7 9]\n",
      "[2 5]\n",
      "\n",
      "[[ 0.   1.5  6.  13.5 24.  37.5 54.  73.5]\n",
      " [ 3.   4.5  9.  16.5 27.  40.5 57.  76.5]\n",
      " [ 6.   7.5 12.  19.5 30.  43.5 60.  79.5]]\n",
      "\n",
      "16.5\n",
      "[ 6.   7.5 12.  19.5 30.  43.5 60.  79.5]\n",
      "[0. 3. 6.]\n",
      "[13.5 16.5 19.5]\n"
     ]
    }
   ],
   "source": [
    "#Slicing\n",
    "t = np.arange(0,10)\n",
    "print(t[:2])     # First two\n",
    "print(t[2:])     # Omit first two\n",
    "print(t[-2:])    # Last two\n",
    "print(t[:-2])    # Omit last two\n",
    "print(t[::-1])   # Reverse order\n",
    "print(t[::2])    # Every even-th element\n",
    "print(t[1::2])   # Every odd-th element\n",
    "print(t[2:7:3])  # Every 3rd element between elements 2 and 7\n",
    "\n",
    "#2D slicing\n",
    "def f(x,y):\n",
    "    return 1.5*y**2+3*x\n",
    "\n",
    "m = np.fromfunction(f, (3,8)) # Creates 2D matrix from function\n",
    "print()\n",
    "print(m)\n",
    "print()\n",
    "print(m[1,3])    # Row 1, column 3\n",
    "print(m[2])      # 3rd Row\n",
    "print(m[:,0])    # First column\n",
    "print(m[..., 3]) # 4th column. \"...\" is used in place of many :'s\n",
    "# Note that interations are done over the first axis (rows)"
   ]
  },
  {
   "cell_type": "code",
   "execution_count": 49,
   "metadata": {},
   "outputs": [
    {
     "name": "stdout",
     "output_type": "stream",
     "text": [
      "(6, 4)\n",
      "\n",
      "[ 0.   1.5  6.  13.5 24.  37.5 54.  73.5  3.   4.5  9.  16.5 27.  40.5\n",
      " 57.  76.5  6.   7.5 12.  19.5 30.  43.5 60.  79.5]\n",
      "\n",
      "[[ 0.   1.5  6.  13.5 24.  37.5]\n",
      " [54.  73.5  3.   4.5  9.  16.5]\n",
      " [27.  40.5 57.  76.5  6.   7.5]\n",
      " [12.  19.5 30.  43.5 60.  79.5]]\n",
      "\n",
      "[[ 0.   1.5  6.  13.5]\n",
      " [24.  37.5 54.  73.5]\n",
      " [ 3.   4.5  9.  16.5]\n",
      " [27.  40.5 57.  76.5]\n",
      " [ 6.   7.5 12.  19.5]\n",
      " [30.  43.5 60.  79.5]]\n",
      "\n",
      "[[ 0.  24.   3.  27.   6.  30. ]\n",
      " [ 1.5 37.5  4.5 40.5  7.5 43.5]\n",
      " [ 6.  54.   9.  57.  12.  60. ]\n",
      " [13.5 73.5 16.5 76.5 19.5 79.5]]\n",
      "\n",
      "[[ 0.   1.5  6.  13.5 24.  37.5 54.  73.5]\n",
      " [ 3.   4.5  9.  16.5 27.  40.5 57.  76.5]\n",
      " [ 6.   7.5 12.  19.5 30.  43.5 60.  79.5]]\n"
     ]
    }
   ],
   "source": [
    "# Shape Manipulation\n",
    "print(m.shape)         # Dimensions of matrix\n",
    "print()\n",
    "print(m.ravel())       # Flattens matrix to a 1D vector\n",
    "print()\n",
    "print(m.reshape(4,6))  # Reshapes matrix. Goes in order of the rows. \n",
    "print()\n",
    "m.resize(6,4)          # Use resize function to modify in place. \n",
    "print(m)\n",
    "print()\n",
    "print(m.T)             # Transpose\n",
    "print()\n",
    "print(m.reshape(3,-1)) # Automatically calculate missing dimension\n"
   ]
  },
  {
   "cell_type": "code",
   "execution_count": 27,
   "metadata": {},
   "outputs": [
    {
     "name": "stdout",
     "output_type": "stream",
     "text": [
      "[ 0.   2.5  5.   7.5 10. ]\n",
      "[ 0.   2.5  5.   7.5 10. ]\n"
     ]
    }
   ],
   "source": [
    "# Linspace function. Used for floating-point sequences to get exact number in sequence. \n",
    "# 9 numbers between 0 and 2pi (so pi/4 increments)\n",
    "np.linspace(0, 2*np.pi, 9)\n",
    "print(np.linspace(0, 10, 5))\n",
    "print(np.arange(0, 10.1, 2.5))"
   ]
  },
  {
   "cell_type": "code",
   "execution_count": 50,
   "metadata": {},
   "outputs": [
    {
     "name": "stdout",
     "output_type": "stream",
     "text": [
      "[5.1 6.1 7.1 8.1]\n",
      "[ 1  8 27 64]\n",
      "[ 3 10 21 36]\n",
      "[10  2  0 -4]\n",
      "10\n",
      "10\n",
      "[21. 26. 28. 32. 33. 41. 46. 49.]\n",
      "[[21. 26. 28. 32.]\n",
      " [ 1.  9. 14. 17.]]\n"
     ]
    }
   ],
   "source": [
    "#Arithmetic: \n",
    "# Done element-wise\n",
    "\n",
    "a = np.array([1,2,3,4])\n",
    "print(a + 4.1)\n",
    "print(a**3)\n",
    "print(a + 2*a**2)\n",
    "\n",
    "b = np.array([10, 1, 0, -1])\n",
    "print(a*b)\n",
    "\n",
    "#Combine 2 arrays\n",
    "np.concatenate((a,b))\n",
    "\n",
    "# Functions from ndarray\n",
    "print(a.sum())\n",
    "print(sum(a))\n",
    "\n",
    "ab.sum(axis=1) # Row Sums\n",
    "ab.sum(axis=0) # Column sums\n",
    "\n",
    "# Cumulative sums\n",
    "print(ab.cumsum())       #Unwinds whole array\n",
    "print(ab.cumsum(axis=1)) # Cumulative sum along the rows"
   ]
  },
  {
   "cell_type": "code",
   "execution_count": 68,
   "metadata": {},
   "outputs": [
    {
     "data": {
      "text/plain": [
       "array([[1, 1, 1, 1, 1],\n",
       "       [1, 1, 1, 1, 1],\n",
       "       [1, 1, 1, 1, 1],\n",
       "       [1, 1, 1, 1, 1]])"
      ]
     },
     "execution_count": 68,
     "metadata": {},
     "output_type": "execute_result"
    }
   ],
   "source": [
    "# Repeat Funciton\n",
    "\n",
    "#Array of Zeros\n",
    "np.zeros((2,3))\n",
    "\n",
    "np.repeat(1, 20).reshape(4,5) "
   ]
  },
  {
   "cell_type": "code",
   "execution_count": 70,
   "metadata": {},
   "outputs": [
    {
     "data": {
      "text/plain": [
       "1.2246467991473532e-16"
      ]
     },
     "execution_count": 70,
     "metadata": {},
     "output_type": "execute_result"
    }
   ],
   "source": [
    "#Math\n",
    "\n",
    "# euler's number\n",
    "np.exp(1)\n",
    "\n",
    "# sin/cos\n",
    "np.sin(np.pi)"
   ]
  },
  {
   "cell_type": "code",
   "execution_count": null,
   "metadata": {},
   "outputs": [],
   "source": []
  }
 ],
 "metadata": {
  "kernelspec": {
   "display_name": "Python 3",
   "language": "python",
   "name": "python3"
  },
  "language_info": {
   "codemirror_mode": {
    "name": "ipython",
    "version": 3
   },
   "file_extension": ".py",
   "mimetype": "text/x-python",
   "name": "python",
   "nbconvert_exporter": "python",
   "pygments_lexer": "ipython3",
   "version": "3.6.4"
  }
 },
 "nbformat": 4,
 "nbformat_minor": 2
}
