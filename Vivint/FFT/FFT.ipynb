{
 "cells": [
  {
   "cell_type": "code",
   "execution_count": null,
   "metadata": {},
   "outputs": [],
   "source": [
    "import numpy as np\n",
    "import matplotlib.pyplot as plt\n",
    "\n",
    "# first create the time signal, which has two frequencies\n",
    "f_s = 100.0 # Hz  sampling frequency OR #records/1 sec\n",
    "f = 1.0 # Hz\n",
    "tFqs = np.array([11,24,17])\n",
    "tAmps = np.array([5.1,-3.5, .5])\n",
    "time = np.arange(0.0, 10.0, 1/f_s)\n",
    "\n",
    "def createWave(fqs, amps):\n",
    "    w = np.random.randn(len(time)) #White Noise\n",
    "    for i in range(len(amps)):\n",
    "        w += amps[i] * np.sin(fqs[i] * 2 * np.pi * f * time)\n",
    "    return(w)\n",
    "x = createWave(tFqs, tAmps)\n",
    "\n",
    "# apply hann window and take the FFT\n",
    "win = np.hanning(len(x))\n",
    "FFT = np.fft.fft(win * x)\n",
    "n = len(FFT)\n",
    "freq_hanned = np.fft.fftfreq(n, 1/f_s)  \n",
    "half_n = np.ceil(n/2.0).astype(int)\n",
    "fft_hanned_half = 2* (2.0 / n) * FFT[:half_n]\n",
    "freq_hanned_half = freq_hanned[:half_n]\n",
    "amps = np.abs(fft_hanned_half)\n",
    "\n",
    "#Find Local maximums from plot\n",
    "def locMax(ts, thresh = 1):\n",
    "    inds = np.where([ts[x] - ts[x-1] >= thresh and ts[x] - ts[x+1] >= thresh for x in range(1,len(ts)-1)])[0]\n",
    "    return(inds + 1)\n",
    "\n",
    "max_freqs_ind = locMax(amps,0.5/3)\n",
    "\n",
    "\n",
    "# Plot\n",
    "plt.plot(freq_hanned_half, np.abs(fft_hanned_half))\n",
    "for x in max_freqs_ind: plt.axvline(freq_hanned_half[x], color = 'red', lw = .75, linestyle='--')\n",
    "plt.xlabel(\"Frequency (Hz)\")\n",
    "plt.ylabel(\"Amplitude\")\n",
    "plt.show()\n",
    "\n",
    "print(\"LocMax Freqs: {}\".format(freq_hanned_half[max_freqs_ind]))\n",
    "print(\"True Freqs: {}\".format(tFqs))\n",
    "\n",
    "print(\"LocMax Amps: {}\".format(amps[max_freqs_ind]))\n",
    "print(\"True Amps: {}\".format(tAmps))"
   ]
  }
 ],
 "metadata": {
  "kernelspec": {
   "display_name": "Python 3",
   "language": "python",
   "name": "python3"
  },
  "language_info": {
   "codemirror_mode": {
    "name": "ipython",
    "version": 3
   },
   "file_extension": ".py",
   "mimetype": "text/x-python",
   "name": "python",
   "nbconvert_exporter": "python",
   "pygments_lexer": "ipython3",
   "version": "3.6.4"
  }
 },
 "nbformat": 4,
 "nbformat_minor": 2
}
