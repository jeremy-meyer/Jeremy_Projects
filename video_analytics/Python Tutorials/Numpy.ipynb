{
 "cells": [
  {
   "cell_type": "code",
   "execution_count": 1,
   "metadata": {},
   "outputs": [
    {
     "name": "stdout",
     "output_type": "stream",
     "text": [
      "[[ 0  1  2  3  4]\n",
      " [ 5  6  7  8  9]\n",
      " [10 11 12 13 14]]\n",
      "\n",
      "Dimensionality: 2\n",
      "Shape: (3, 5)\n",
      "Size: 15\n",
      "\n",
      "[[21.  5.  2.  4.]\n",
      " [ 1.  8.  5.  3.]]\n"
     ]
    }
   ],
   "source": [
    "# Basic ndarrays\n",
    "import numpy as np\n",
    "\n",
    "#Uses numbers 0-15 and resizes it to 3 rows, 5 columns\n",
    "# OR 3 lists of 5 elements. Arange reuturns an array\n",
    "a = np.arange(15).reshape(3,5)\n",
    "print(a)\n",
    "\n",
    "#Some Basic properties\n",
    "print(\"\\nDimensionality: {}\".format(a.ndim))\n",
    "print(\"Shape: {}\".format(a.shape))\n",
    "print(\"Size: {}\\n\".format(a.size))\n",
    "\n",
    "#String Containing data type\n",
    "a.dtype.name\n",
    "\n",
    "#Creating 2D arrays manually. Sequence of 1D arrays\n",
    "ab = np.array(([21,5,2,4],[1,8,5,3]), dtype='float32')\n",
    "print(ab)\n"
   ]
  },
  {
   "cell_type": "code",
   "execution_count": 43,
   "metadata": {},
   "outputs": [
    {
     "name": "stdout",
     "output_type": "stream",
     "text": [
      "[0 1]\n",
      "[2 3 4 5 6 7 8 9]\n",
      "[8 9]\n",
      "[0 1 2 3 4 5 6 7]\n",
      "[9 8 7 6 5 4 3 2 1 0]\n",
      "[0 2 4 6 8]\n",
      "[1 3 5 7 9]\n",
      "[2 5]\n",
      "[1 4 2 9]\n",
      "[0 2 4 6 8]\n",
      "[[1 3]\n",
      " [6 7]]\n",
      "\n",
      "[[ 0.   1.5  6.  13.5 24.  37.5 54.  73.5]\n",
      " [ 3.   4.5  9.  16.5 27.  40.5 57.  76.5]\n",
      " [ 6.   7.5 12.  19.5 30.  43.5 60.  79.5]]\n",
      "\n",
      "16.5\n",
      "[ 6.   7.5 12.  19.5 30.  43.5 60.  79.5]\n",
      "[0. 3. 6.]\n",
      "[13.5 16.5 19.5]\n",
      "\n",
      "[[24.  37.5 54.  73.5]\n",
      " [30.  43.5 60.  79.5]]\n"
     ]
    }
   ],
   "source": [
    "#Slicing\n",
    "t = np.arange(0,10)\n",
    "print(t[:2])              # First two\n",
    "print(t[2:])              # Omit first two\n",
    "print(t[-2:])             # Last two\n",
    "print(t[:-2])             # Omit last two\n",
    "print(t[::-1])            # Reverse order\n",
    "print(t[::2])             # Every even-th element\n",
    "print(t[1::2])            # Every odd-th element\n",
    "print(t[2:7:3])           # Every 3rd element between elements 2 and 7\n",
    "print(t[[[1,4,2,9]]])     # Custom slicing\n",
    "print(t[[True, False]*5]) # Boolean indexing\n",
    "\n",
    "print(t[np.array([[1,3], [6,7]])]) # Can also index to form a matrix\n",
    "\n",
    "#2D slicing\n",
    "def f(x,y):\n",
    "    return 1.5*y**2+3*x\n",
    "\n",
    "m = np.fromfunction(f, (3,8)) # Creates 2D matrix from function\n",
    "print()\n",
    "print(m)\n",
    "print()\n",
    "print(m[1,3])    # Row 1, column 3\n",
    "print(m[2])      # 3rd Row\n",
    "print(m[:,0])    # First column\n",
    "print(m[..., 3]) # 4th column. \"...\" is used in place of many :'s\n",
    "\n",
    "# Fancy Subsetting: Only rows with a 6 in them, only columns with a mean over 20\n",
    "r = [6 in x for x in m]\n",
    "c = [np.mean(m[:,x]) > 20 for x in range(m.shape[1])] \n",
    "print()\n",
    "print(m[:,c][r])\n",
    "# print(m[[6 in x for x in m], [np.mean(m[:,x]) > 20 for x in range(m.shape[1])]] )\n"
   ]
  },
  {
   "cell_type": "code",
   "execution_count": 49,
   "metadata": {},
   "outputs": [
    {
     "name": "stdout",
     "output_type": "stream",
     "text": [
      "(6, 4)\n",
      "\n",
      "[ 0.   1.5  6.  13.5 24.  37.5 54.  73.5  3.   4.5  9.  16.5 27.  40.5\n",
      " 57.  76.5  6.   7.5 12.  19.5 30.  43.5 60.  79.5]\n",
      "\n",
      "[[ 0.   1.5  6.  13.5 24.  37.5]\n",
      " [54.  73.5  3.   4.5  9.  16.5]\n",
      " [27.  40.5 57.  76.5  6.   7.5]\n",
      " [12.  19.5 30.  43.5 60.  79.5]]\n",
      "\n",
      "[[ 0.   1.5  6.  13.5]\n",
      " [24.  37.5 54.  73.5]\n",
      " [ 3.   4.5  9.  16.5]\n",
      " [27.  40.5 57.  76.5]\n",
      " [ 6.   7.5 12.  19.5]\n",
      " [30.  43.5 60.  79.5]]\n",
      "\n",
      "[[ 0.  24.   3.  27.   6.  30. ]\n",
      " [ 1.5 37.5  4.5 40.5  7.5 43.5]\n",
      " [ 6.  54.   9.  57.  12.  60. ]\n",
      " [13.5 73.5 16.5 76.5 19.5 79.5]]\n",
      "\n",
      "[[ 0.   1.5  6.  13.5 24.  37.5 54.  73.5]\n",
      " [ 3.   4.5  9.  16.5 27.  40.5 57.  76.5]\n",
      " [ 6.   7.5 12.  19.5 30.  43.5 60.  79.5]]\n"
     ]
    }
   ],
   "source": [
    "# Shape Manipulation\n",
    "print(m.shape)         # Dimensions of matrix\n",
    "print()\n",
    "print(m.ravel())       # Flattens matrix to a 1D vector\n",
    "print()\n",
    "print(m.reshape(4,6))  # Reshapes matrix. Goes in order of the rows. \n",
    "print()\n",
    "m.resize(6,4)          # Use resize function to modify in place. \n",
    "print(m)\n",
    "print()\n",
    "print(m.T)             # Transpose\n",
    "print()\n",
    "print(m.reshape(3,-1)) # Automatically calculate missing dimension\n"
   ]
  },
  {
   "cell_type": "code",
   "execution_count": 50,
   "metadata": {},
   "outputs": [
    {
     "name": "stdout",
     "output_type": "stream",
     "text": [
      "[5.1 6.1 7.1 8.1]\n",
      "[ 1  8 27 64]\n",
      "[ 3 10 21 36]\n",
      "[10  2  0 -4]\n",
      "10\n",
      "10\n",
      "[21. 26. 28. 32. 33. 41. 46. 49.]\n",
      "[[21. 26. 28. 32.]\n",
      " [ 1.  9. 14. 17.]]\n"
     ]
    }
   ],
   "source": [
    "#Arithmetic: \n",
    "# Done element-wise like in R\n",
    "\n",
    "a = np.array([1,2,3,4])\n",
    "print(a + 4.1)\n",
    "print(a**3)\n",
    "print(a + 2*a**2)\n",
    "\n",
    "b = np.array([10, 1, 0, -1])\n",
    "print(a*b)\n",
    "\n",
    "# Functions from ndarray\n",
    "print(a.sum())\n",
    "print(sum(a))\n",
    "\n",
    "ab.sum(axis=1) # Row Sums\n",
    "ab.sum(axis=0) # Column sums\n",
    "\n",
    "# Cumulative sums\n",
    "print(ab.cumsum())       #Unwinds whole array\n",
    "print(ab.cumsum(axis=1)) # Cumulative sum along the rows"
   ]
  },
  {
   "cell_type": "code",
   "execution_count": 33,
   "metadata": {},
   "outputs": [
    {
     "name": "stdout",
     "output_type": "stream",
     "text": [
      "[[0. 0. 0. 0.]\n",
      " [0. 0. 0. 0.]\n",
      " [0. 0. 0. 0.]\n",
      " [1. 1. 1. 1.]\n",
      " [1. 1. 1. 1.]\n",
      " [1. 1. 1. 1.]\n",
      " [1. 1. 1. 1.]\n",
      " [1. 1. 1. 1.]]\n",
      "\n",
      "[[0. 0. 0. 0. 1. 1.]\n",
      " [0. 0. 0. 0. 1. 1.]\n",
      " [0. 0. 0. 0. 1. 1.]]\n",
      "\n",
      "[1 4 8 2]\n",
      "[[1]\n",
      " [4]\n",
      " [8]\n",
      " [2]]\n",
      "\n",
      "[1 4 8 2 5 9 1 4]\n",
      "\n",
      "[[0. 0. 0. 0.]\n",
      " [0. 0. 0. 0.]\n",
      " [0. 0. 0. 0.]\n",
      " [1. 1. 1. 1.]\n",
      " [1. 1. 1. 1.]\n",
      " [1. 1. 1. 1.]\n",
      " [1. 1. 1. 1.]\n",
      " [1. 1. 1. 1.]]\n",
      "\n",
      "[[0. 0. 0. 0. 1. 1.]\n",
      " [0. 0. 0. 0. 1. 1.]\n",
      " [0. 0. 0. 0. 1. 1.]]\n"
     ]
    },
    {
     "data": {
      "text/plain": [
       "[array([[1., 1., 1., 1.]]),\n",
       " array([[1., 1., 1., 1.]]),\n",
       " array([[1., 1., 1., 1.]]),\n",
       " array([[1., 1., 1., 1.]])]"
      ]
     },
     "execution_count": 33,
     "metadata": {},
     "output_type": "execute_result"
    }
   ],
   "source": [
    "# Stacking ( R: Cbind and Rbind )\n",
    "r = np.zeros((3,4))\n",
    "s = np.ones((5,4))\n",
    "print(np.vstack((r,s))) # Vstack = rbind. Binds along 0th axis\n",
    "print()\n",
    "\n",
    "t = np.ones((3, 2))\n",
    "print(np.hstack((r,t))) # hstack = cbind. Binds along 1st axis\n",
    "print()\n",
    "\n",
    "# For 1D vectors:\n",
    "r1 = np.array([1,4,8,2])\n",
    "r2 = np.array([5,9,1,4])\n",
    "r3 = np.array(['Dog',\"car\",\"cheese\",'red'])\n",
    "np.column_stack((r1,r2)) # cbinds 1D vectors into 2 columns. Use row_stack to rbind 1D vectors\n",
    "np.column_stack((r1,r3)) # However, they must be the same type\n",
    "\n",
    "from numpy import newaxis\n",
    "print(r1.T)              # This doesn't work\n",
    "print(r1[:, newaxis])    # Turns it into a column vector\n",
    "print()\n",
    "\n",
    "# Concatenation\n",
    "print(np.concatenate((r1, r2)))      # Combines 1D vectors\n",
    "print()\n",
    "print(np.concatenate((r,s)))         # Note this just rbinds\n",
    "print() \n",
    "print(np.concatenate((r,t), axis=1)) # This cbinds\n",
    "\n",
    "# Custom Splitting\n",
    "np.vsplit(np.ones((4,4)),4)          # Splits matrix into 4 rows"
   ]
  },
  {
   "cell_type": "code",
   "execution_count": 9,
   "metadata": {},
   "outputs": [
    {
     "name": "stdout",
     "output_type": "stream",
     "text": [
      "[[1 0 1]\n",
      " [1 0 1]\n",
      " [1 0 1]\n",
      " [1 0 1]]\n",
      "\n",
      "[[ 2  2  4]\n",
      " [ 5  5  7]\n",
      " [ 8  8 10]\n",
      " [11 11 13]]\n",
      "[[ 2  2  4]\n",
      " [ 5  5  7]\n",
      " [ 8  8 10]\n",
      " [11 11 13]]\n",
      "\n",
      "[[ 6  7  8]\n",
      " [ 5  6  7]\n",
      " [12 13 14]\n",
      " [11 12 13]]\n"
     ]
    }
   ],
   "source": [
    "# Broadcasting\n",
    "x = np.array([[1,2,3], [4,5,6], [7,8,9], [10, 11, 12]])\n",
    "v = np.array([1, 0, 1])         # We want to add this to each row\n",
    "\n",
    "vv = np.tile(v, (4, 1))         # This stacks the vector in 4 rows and 1 column. Can modify columns to repeat it.\n",
    "print(vv)\n",
    "print()\n",
    "print(x + vv)\n",
    "# Note that numpy will automatically do this (broadcasting)\n",
    "print(x+v)\n",
    "print()\n",
    "# Adding columns. Transposing is easiest\n",
    "w = np.array([5,1,5,1])\n",
    "print((x.T + w).T)"
   ]
  },
  {
   "cell_type": "code",
   "execution_count": 26,
   "metadata": {},
   "outputs": [
    {
     "name": "stdout",
     "output_type": "stream",
     "text": [
      "{0: 0, 1: 1, 2: 8, 3: 27, 4: 64, 5: 125, 6: 216, 7: 343, 8: 512, 9: 729}\n",
      "True\n"
     ]
    },
    {
     "data": {
      "text/plain": [
       "[(0, 0),\n",
       " (1, 1),\n",
       " (2, 8),\n",
       " (3, 27),\n",
       " (4, 64),\n",
       " (5, 125),\n",
       " (6, 216),\n",
       " (7, 343),\n",
       " (8, 512),\n",
       " (9, 729),\n",
       " (10, 1000)]"
      ]
     },
     "execution_count": 26,
     "metadata": {},
     "output_type": "execute_result"
    }
   ],
   "source": [
    "# Dictionaries. Use {key : value}\n",
    "cubes = {x : x**3 for x in range(10)}     # Dict comprehensions\n",
    "print(cubes)\n",
    "\n",
    "cubes[3]\n",
    "print(7 in cubes) # Note this only works for the keys\n",
    "cubes[10] = 10**3 # Adds 10 to the dictionary\n",
    "\n",
    "cubes.keys()\n",
    "cubes.values()\n",
    "list(cubes.items())"
   ]
  },
  {
   "cell_type": "code",
   "execution_count": 43,
   "metadata": {},
   "outputs": [
    {
     "name": "stdout",
     "output_type": "stream",
     "text": [
      "['star', 1.5, 2, array([[0., 0.],\n",
      "       [0., 0.]]), 'DidItWork?']\n",
      "\n",
      "['star', 1.5, 2, 'DidItWork?']\n",
      "['star', 1.5, 2, array([[0., 0.],\n",
      "       [0., 0.]]), 'DidItWork?']\n",
      "True\n",
      "False\n"
     ]
    }
   ],
   "source": [
    "# List mechanics\n",
    "l = ['star', 1.5, 2, np.zeros((2,2))]     # Lists can store anything of any type\n",
    "\n",
    "s = l                                     # This points to the same location in memory\n",
    "l.append(\"DidItWork?\")\n",
    "print(s)                                  # Note that this was added to s as well\n",
    "print()\n",
    "s1 = l[:]                                 # OR list(l) Makes a copy\n",
    "s1.pop(3)\n",
    "print(s1)                                 # Note that these are no longer tied to each other. \n",
    "print(l)\n",
    "\n",
    "print(s is l)                             #Do they point to same locaiton in memory? (Doesn't account for views)\n",
    "print(s1 is l)\n"
   ]
  },
  {
   "cell_type": "code",
   "execution_count": 27,
   "metadata": {},
   "outputs": [
    {
     "name": "stdout",
     "output_type": "stream",
     "text": [
      "[ 0.   2.5  5.   7.5 10. ]\n",
      "[ 0.   2.5  5.   7.5 10. ]\n"
     ]
    }
   ],
   "source": [
    "# Linspace function. Used for floating-point sequences to get exact number in sequence. \n",
    "# 9 numbers between 0 and 2pi (so pi/4 increments)\n",
    "np.linspace(0, 2*np.pi, 9)\n",
    "print(np.linspace(0, 10, 5))\n",
    "print(np.arange(0, 10.1, 2.5))"
   ]
  },
  {
   "cell_type": "code",
   "execution_count": 39,
   "metadata": {},
   "outputs": [
    {
     "name": "stdout",
     "output_type": "stream",
     "text": [
      "['NANA' 'NANA' 'NANA' 'NANA' 'NANA' 'NANA' 'NANA' 'NANA']\n",
      "[[1 2]\n",
      " [1 2]\n",
      " [1 2]\n",
      " [3 4]\n",
      " [3 4]\n",
      " [3 4]]\n",
      "\n",
      "[[1]\n",
      " [1]\n",
      " [1]\n",
      " [1]\n",
      " [1]]\n",
      "[[1.]\n",
      " [1.]\n",
      " [1.]\n",
      " [1.]\n",
      " [1.]]\n"
     ]
    },
    {
     "data": {
      "text/plain": [
       "array([[1, 1, 1, 1, 1],\n",
       "       [1, 1, 1, 1, 1],\n",
       "       [1, 1, 1, 1, 1],\n",
       "       [1, 1, 1, 1, 1]])"
      ]
     },
     "execution_count": 39,
     "metadata": {},
     "output_type": "execute_result"
    }
   ],
   "source": [
    "# Repeat Funciton\n",
    "print(np.repeat(\"NANA\", 8)) # 1D vector\n",
    "print(np.repeat(np.array([[1,2],[3,4]]), 3,axis=0)) # Repeats the respective elements in the matrix\n",
    "print()\n",
    "\n",
    "#Vector of 1s\n",
    "print(np.repeat(np.array([[1]]), 5,axis=0))\n",
    "print(np.ones((5,1)))\n",
    "\n",
    "#Array of Zeros\n",
    "np.zeros((2,3))\n",
    "\n",
    "# Matrix of 1s\n",
    "np.repeat(1, 20).reshape(4,5) "
   ]
  },
  {
   "cell_type": "code",
   "execution_count": 14,
   "metadata": {},
   "outputs": [
    {
     "name": "stdout",
     "output_type": "stream",
     "text": [
      "[10  1 12  3 14  5  6  7  8  9]\n"
     ]
    }
   ],
   "source": [
    "#Math\n",
    "\n",
    "# euler's number\n",
    "np.exp(1)\n",
    "\n",
    "# sin/cos\n",
    "np.sin(np.pi)\n",
    "\n",
    "a = np.arange(10)\n",
    "a[[0,0,2,4]] += 10\n",
    "print(a)"
   ]
  },
  {
   "cell_type": "code",
   "execution_count": null,
   "metadata": {},
   "outputs": [],
   "source": [
    "# Loop logic\n",
    "# break - exits first loop.\n",
    "# Pass - DOes absolutely nothing\n",
    "\n",
    "# For-Else. Else executes if break doesn't execute\n",
    "for n in range(2, 10):\n",
    "    for x in range(2, n):\n",
    "        if n % x == 0:\n",
    "            print(n, 'equals', x, '*', n//x)\n",
    "            break\n",
    "    else:\n",
    "        # loop fell through without finding a factor\n",
    "        print(n, 'is a prime number')"
   ]
  }
 ],
 "metadata": {
  "kernelspec": {
   "display_name": "Python 3",
   "language": "python",
   "name": "python3"
  },
  "language_info": {
   "codemirror_mode": {
    "name": "ipython",
    "version": 3
   },
   "file_extension": ".py",
   "mimetype": "text/x-python",
   "name": "python",
   "nbconvert_exporter": "python",
   "pygments_lexer": "ipython3",
   "version": "3.6.4"
  }
 },
 "nbformat": 4,
 "nbformat_minor": 2
}
