{
 "cells": [
  {
   "cell_type": "code",
   "execution_count": 13,
   "metadata": {},
   "outputs": [
    {
     "name": "stdout",
     "output_type": "stream",
     "text": [
      "3\n",
      "hello"
     ]
    },
    {
     "data": {
      "text/plain": [
       "x = 3\n",
       "pi = 3.1415\n",
       "s = hello\n"
      ]
     },
     "metadata": {},
     "output_type": "display_data"
    },
    {
     "data": {
      "text/plain": [
       "hello"
      ]
     },
     "execution_count": 13,
     "metadata": {},
     "output_type": "execute_result"
    }
   ],
   "source": [
    "//Variabules + Printing: Immutable (val), changeable (var)\n",
    "var x = 0\n",
    "x += 3\n",
    "println(x)\n",
    "\n",
    "val pi : Double = 3.1415\n",
    "val s = \"hello\"; print(s) //Semi-colon for new sentence"
   ]
  },
  {
   "cell_type": "code",
   "execution_count": 19,
   "metadata": {},
   "outputs": [
    {
     "name": "stdout",
     "output_type": "stream",
     "text": [
      "true\n",
      "false\n",
      "true\n",
      "false\n"
     ]
    }
   ],
   "source": [
    "//Logicals && || != ==\n",
    "println(5 != 4)\n",
    "println(true && false)\n",
    "println(true || false)\n",
    "println(true == false)"
   ]
  },
  {
   "cell_type": "code",
   "execution_count": 21,
   "metadata": {},
   "outputs": [
    {
     "name": "stdout",
     "output_type": "stream",
     "text": [
      "This is else statement\n"
     ]
    },
    {
     "data": {
      "text/plain": [
       "x = 0\n"
      ]
     },
     "metadata": {},
     "output_type": "display_data"
    },
    {
     "data": {
      "text/plain": [
       "0"
      ]
     },
     "execution_count": 21,
     "metadata": {},
     "output_type": "execute_result"
    }
   ],
   "source": [
    "//Contitional if and elses\n",
    "var x = 0;\n",
    "\n",
    "  if( x == 10 ){\n",
    "     println(\"Value of X is 10\");\n",
    "  } else if( x == 20 ){\n",
    "     println(\"Value of X is 20\");\n",
    "  } else if( x == 30 ){\n",
    "     println(\"Value of X is 30\");\n",
    "  } else{\n",
    "     println(\"This is else statement\");\n",
    "  }"
   ]
  },
  {
   "cell_type": "code",
   "execution_count": 41,
   "metadata": {},
   "outputs": [
    {
     "data": {
      "text/plain": [
       "radii = Array(1, 4, 9, 10)\n"
      ]
     },
     "metadata": {},
     "output_type": "display_data"
    },
    {
     "data": {
      "text/plain": [
       "printMe: ()Unit\n",
       "cubeit: (a: Int)Int\n"
      ]
     },
     "metadata": {},
     "output_type": "display_data"
    },
    {
     "data": {
      "text/plain": [
       "[3.14159, 50.26544, 254.46879, 314.159]"
      ]
     },
     "execution_count": 41,
     "metadata": {},
     "output_type": "execute_result"
    }
   ],
   "source": [
    "//Functions\n",
    "\n",
    "def printMe( ) : Unit = {\n",
    "     println(\"Hello, Scala!\")  \n",
    "}\n",
    "\n",
    "def cubeit( a:Int) : Int = {\n",
    "    return a*a*a\n",
    "}\n",
    "\n",
    "//Apply function to each element in a list (sapply). Uses in-line function\n",
    "val radii = Array(1,4,9,10)\n",
    "radii.map(r => 3.14159*r*r) //Note that ^ does not raise to a power\n",
    "\n"
   ]
  },
  {
   "cell_type": "code",
   "execution_count": null,
   "metadata": {
    "collapsed": true
   },
   "outputs": [],
   "source": [
    "//Loops\n",
    "for( a <- 1 to 10){\n",
    "    println( \"Value of a: \" + a )\n",
    "}\n",
    "\n",
    "var a = 10;\n",
    "while( a < 20 ){\n",
    "    println( \"Value of a: \" + a );\n",
    "    a = a + 1;\n",
    "}\n"
   ]
  },
  {
   "cell_type": "code",
   "execution_count": 36,
   "metadata": {},
   "outputs": [
    {
     "name": "stdout",
     "output_type": "stream",
     "text": [
      "4"
     ]
    },
    {
     "data": {
      "text/plain": [
       "list = Array(1, 2, 3, 4)\n",
       "list2 = List(4, 5, 6, 7)\n",
       "myMatrix = Array(Array(0, 1, 2), Array(3, 4, 5), Array(6, 7, 8))\n"
      ]
     },
     "metadata": {},
     "output_type": "display_data"
    },
    {
     "data": {
      "text/plain": [
       "[[0, 1, 2], [3, 4, 5], [6, 7, 8]]"
      ]
     },
     "execution_count": 36,
     "metadata": {},
     "output_type": "execute_result"
    }
   ],
   "source": [
    "//Arrays\n",
    "var list = Array(1,2,3,4)\n",
    "var list2 = Seq(4,5,6,7)\n",
    "concat(list, list)\n",
    "\n",
    "//Subsetting\n",
    "print(list2(0)) \n",
    "\n",
    "//2D Arrays\n",
    "import Array._\n",
    "\n",
    "var myMatrix = ofDim[Int](3,3)\n",
    "for ( i <- 0 to 2){\n",
    "    for (j <- 0 to 2){\n",
    "        myMatrix(i)(j) = i*3+j\n",
    "    }\n",
    "}\n",
    "\n"
   ]
  },
  {
   "cell_type": "code",
   "execution_count": null,
   "metadata": {
    "collapsed": true
   },
   "outputs": [],
   "source": []
  }
 ],
 "metadata": {
  "kernelspec": {
   "display_name": "Apache Toree - Scala",
   "language": "scala",
   "name": "apache_toree_scala"
  },
  "language_info": {
   "codemirror_mode": "text/x-scala",
   "file_extension": ".scala",
   "mimetype": "text/x-scala",
   "name": "scala",
   "pygments_lexer": "scala",
   "version": "2.11.8"
  }
 },
 "nbformat": 4,
 "nbformat_minor": 2
}
